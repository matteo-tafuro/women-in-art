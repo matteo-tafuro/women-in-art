{
 "cells": [
  {
   "cell_type": "code",
   "outputs": [],
   "source": [
    "import pandas as pd"
   ],
   "metadata": {
    "collapsed": false,
    "ExecuteTime": {
     "end_time": "2024-06-17T13:41:16.869379Z",
     "start_time": "2024-06-17T13:41:16.458029Z"
    }
   },
   "id": "d7cc9373fb38d76c",
   "execution_count": 1
  },
  {
   "cell_type": "markdown",
   "source": [
    "## Step 1: Read CSV files into DataFrames"
   ],
   "metadata": {
    "collapsed": false
   },
   "id": "7d7e13e2e842c0a1"
  },
  {
   "cell_type": "code",
   "outputs": [
    {
     "name": "stderr",
     "output_type": "stream",
     "text": [
      "/var/folders/pg/3l0tmhjs169g7ywv7zxbdghr0000gn/T/ipykernel_36244/3050932227.py:4: DtypeWarning: Columns (42) have mixed types. Specify dtype option on import or set low_memory=False.\n",
      "  ukiyoe_df = pd.read_csv('./Ukiyo-e/ukiyoe_metadata_final.csv', index_col=0)\n"
     ]
    }
   ],
   "source": [
    "met_df = pd.read_csv('./Met/met_metadata_final.csv')\n",
    "semart_df = pd.read_csv('./SemArt/semart_metadata_final.csv')\n",
    "rijksmuseum_df = pd.read_csv('./Rijksmuseum/rijksmuseum_metadata_final.csv')\n",
    "ukiyoe_df = pd.read_csv('./Ukiyo-e/ukiyoe_metadata_final.csv', index_col=0)\n",
    "wikiart_df = pd.read_csv('./Wikiart/wikiart_metadata_final.csv')\n",
    "gac_df = pd.read_csv('./GAC/gac_metadata_final.csv')"
   ],
   "metadata": {
    "collapsed": false,
    "ExecuteTime": {
     "end_time": "2024-06-17T13:41:20.288419Z",
     "start_time": "2024-06-17T13:41:17.990970Z"
    }
   },
   "id": "8c4619cc84a02b31",
   "execution_count": 2
  },
  {
   "cell_type": "code",
   "outputs": [
    {
     "data": {
      "text/plain": "    accession_number artist carver  \\\n0        10.125.452a    NaN    NaN   \n1         1980.501.3    NaN    NaN   \n2         51.171.152    NaN    NaN   \n3          48.135.51    NaN    NaN   \n4          25.115.17    NaN    NaN   \n..               ...    ...    ...   \n422        11.60.147    NaN    NaN   \n423         1978.414    NaN    NaN   \n424         35.105.2    NaN    NaN   \n425          83.2.18    NaN    NaN   \n426       33.120.254    NaN    NaN   \n\n                                           credit_line              culture  \\\n0                      Gift of Mrs. Russell Sage, 1909                  NaN   \n1         Gift of Mr. and Mrs. Louis E. McFadden, 1980             American   \n2    Gift of Mrs. Charles W. Green, in memory of Dr...             American   \n3                    Bequest of Adeline R. Brown, 1947  American or British   \n4                                    Rogers Fund, 1925             American   \n..                                                 ...                  ...   \n422                    Bequest of Maria P. James, 1910             American   \n423  Purchase, Lenox, Incorporated Gift and Sansbur...             American   \n424                                  Rogers Fund, 1935                  NaN   \n425                Gift of William H. Huntington, 1883                  NaN   \n426            Bequest of Alphonso T. Clearwater, 1933             American   \n\n          date                                        description designer  \\\n0    1700–1800                                                NaN      NaN   \n1      1770–90  This beaker is one of three in the Museum’s co...      NaN   \n2      1830–40                                                NaN      NaN   \n3     ca. 1750                                                NaN      NaN   \n4      1755–65                                                NaN      NaN   \n..         ...                                                ...      ...   \n422    1810–20                                                NaN      NaN   \n423       1792                                                NaN      NaN   \n424  1700–1800                                                NaN      NaN   \n425       1864                                                NaN      NaN   \n426  1800–1830                                                NaN      NaN   \n\n                                            dimensions  \\\n0                              H. 16 1/2 in. (41.9 cm)   \n1    Overall: 4 in. (10.2 cm); 5 oz. 9 dwt. (170 g)...   \n2                            Diam. 9 1/2 in. (24.1 cm)   \n3                               H. 8 5/8 in. (21.9 cm)   \n4      40 x 20 7/8 x 20 1/2 in. (101.6 x 53 x 52.1 cm)   \n..                                                 ...   \n422      29 x 45 x 36 3/4 in. (73.7 x 114.3 x 93.3 cm)   \n423                                 H. 9 in. (22.9 cm)   \n424                              H. 2 1/2 in. (6.4 cm)   \n425                           Diam. 1 1/8 in. (2.9 cm)   \n426  Overall: L. 14 7/16 in. (36.7 cm); 5 oz. 13 dw...   \n\n                                             geography  \\\n0                                                  NaN   \n1                      Made in New York, United States   \n2                   Made in New England, United States   \n3    Possibly made in England; Possibly made in Uni...   \n4    Made in Philadelphia, Pennsylvania, United States   \n..                                                 ...   \n422          Made in New York, New York, United States   \n423  Possibly made in Maryland, United States; Poss...   \n424                                                NaN   \n425                                                NaN   \n426          Made in New York, New York, United States   \n\n                                              keywords  \\\n0    Bells, Metal, Copper alloy, Bronze, Bell metal...   \n1    Myers, Myer, Metal, Silver, Vessels, Beakers, ...   \n2    Glass, Pressed glass, Lacy-pattern glass, Bowl...   \n3    Metal, Copper alloy, Brass, Lighting devices, ...   \n4    Wood, Walnut, Softwood, Pine, Furniture, Seati...   \n..                                                 ...   \n422  Metal, Copper alloy, Brass, Furniture, Tables,...   \n423  Glass, Blown glass, Engraving, Vessels, Bottle...   \n424  Metal, Iron and iron alloy, Iron, Arms, Firear...   \n425                      Bolen, John A., Metal, Medals   \n426  Roe  Stollenwerck , Metal, Silver, Ladles, Nor...   \n\n                                      maker manufacturer  \\\n0                                       NaN          NaN   \n1                    Myer Myers (1723–1795)          NaN   \n2                                       NaN          NaN   \n3                                       NaN          NaN   \n4                                       NaN          NaN   \n..                                      ...          ...   \n422                                     NaN          NaN   \n423                                     NaN          NaN   \n424                                     NaN          NaN   \n425               John A. Bolen (1826–1906)          NaN   \n426  Roe and Stollenwerck (active ca. 1800)          NaN   \n\n                                             medium  met_id retailer  \\\n0                                        Bell metal      52      NaN   \n1                                            Silver     431      NaN   \n2                                Lacy pressed glass     762      NaN   \n3                                             Brass    1269      NaN   \n4                               Walnut, yellow pine    1584      NaN   \n..                                              ...     ...      ...   \n422  Mahogany, gilt brass, tulip poplar, white pine    3454      NaN   \n423                        Blown and engraved glass    3711      NaN   \n424                                            Iron    4145      NaN   \n425                                           Metal    4539      NaN   \n426                                          Silver    4671      NaN   \n\n                        title  \n0                     Andiron  \n1                      Beaker  \n2                        Bowl  \n3                 Candlestick  \n4                  Side Chair  \n..                        ...  \n422  Drop-leaf Pembroke Table  \n423             Pocket bottle  \n424                  Gun Hook  \n425                     Medal  \n426                     Ladle  \n\n[427 rows x 17 columns]",
      "text/html": "<div>\n<style scoped>\n    .dataframe tbody tr th:only-of-type {\n        vertical-align: middle;\n    }\n\n    .dataframe tbody tr th {\n        vertical-align: top;\n    }\n\n    .dataframe thead th {\n        text-align: right;\n    }\n</style>\n<table border=\"1\" class=\"dataframe\">\n  <thead>\n    <tr style=\"text-align: right;\">\n      <th></th>\n      <th>accession_number</th>\n      <th>artist</th>\n      <th>carver</th>\n      <th>credit_line</th>\n      <th>culture</th>\n      <th>date</th>\n      <th>description</th>\n      <th>designer</th>\n      <th>dimensions</th>\n      <th>geography</th>\n      <th>keywords</th>\n      <th>maker</th>\n      <th>manufacturer</th>\n      <th>medium</th>\n      <th>met_id</th>\n      <th>retailer</th>\n      <th>title</th>\n    </tr>\n  </thead>\n  <tbody>\n    <tr>\n      <th>0</th>\n      <td>10.125.452a</td>\n      <td>NaN</td>\n      <td>NaN</td>\n      <td>Gift of Mrs. Russell Sage, 1909</td>\n      <td>NaN</td>\n      <td>1700–1800</td>\n      <td>NaN</td>\n      <td>NaN</td>\n      <td>H. 16 1/2 in. (41.9 cm)</td>\n      <td>NaN</td>\n      <td>Bells, Metal, Copper alloy, Bronze, Bell metal...</td>\n      <td>NaN</td>\n      <td>NaN</td>\n      <td>Bell metal</td>\n      <td>52</td>\n      <td>NaN</td>\n      <td>Andiron</td>\n    </tr>\n    <tr>\n      <th>1</th>\n      <td>1980.501.3</td>\n      <td>NaN</td>\n      <td>NaN</td>\n      <td>Gift of Mr. and Mrs. Louis E. McFadden, 1980</td>\n      <td>American</td>\n      <td>1770–90</td>\n      <td>This beaker is one of three in the Museum’s co...</td>\n      <td>NaN</td>\n      <td>Overall: 4 in. (10.2 cm); 5 oz. 9 dwt. (170 g)...</td>\n      <td>Made in New York, United States</td>\n      <td>Myers, Myer, Metal, Silver, Vessels, Beakers, ...</td>\n      <td>Myer Myers (1723–1795)</td>\n      <td>NaN</td>\n      <td>Silver</td>\n      <td>431</td>\n      <td>NaN</td>\n      <td>Beaker</td>\n    </tr>\n    <tr>\n      <th>2</th>\n      <td>51.171.152</td>\n      <td>NaN</td>\n      <td>NaN</td>\n      <td>Gift of Mrs. Charles W. Green, in memory of Dr...</td>\n      <td>American</td>\n      <td>1830–40</td>\n      <td>NaN</td>\n      <td>NaN</td>\n      <td>Diam. 9 1/2 in. (24.1 cm)</td>\n      <td>Made in New England, United States</td>\n      <td>Glass, Pressed glass, Lacy-pattern glass, Bowl...</td>\n      <td>NaN</td>\n      <td>NaN</td>\n      <td>Lacy pressed glass</td>\n      <td>762</td>\n      <td>NaN</td>\n      <td>Bowl</td>\n    </tr>\n    <tr>\n      <th>3</th>\n      <td>48.135.51</td>\n      <td>NaN</td>\n      <td>NaN</td>\n      <td>Bequest of Adeline R. Brown, 1947</td>\n      <td>American or British</td>\n      <td>ca. 1750</td>\n      <td>NaN</td>\n      <td>NaN</td>\n      <td>H. 8 5/8 in. (21.9 cm)</td>\n      <td>Possibly made in England; Possibly made in Uni...</td>\n      <td>Metal, Copper alloy, Brass, Lighting devices, ...</td>\n      <td>NaN</td>\n      <td>NaN</td>\n      <td>Brass</td>\n      <td>1269</td>\n      <td>NaN</td>\n      <td>Candlestick</td>\n    </tr>\n    <tr>\n      <th>4</th>\n      <td>25.115.17</td>\n      <td>NaN</td>\n      <td>NaN</td>\n      <td>Rogers Fund, 1925</td>\n      <td>American</td>\n      <td>1755–65</td>\n      <td>NaN</td>\n      <td>NaN</td>\n      <td>40 x 20 7/8 x 20 1/2 in. (101.6 x 53 x 52.1 cm)</td>\n      <td>Made in Philadelphia, Pennsylvania, United States</td>\n      <td>Wood, Walnut, Softwood, Pine, Furniture, Seati...</td>\n      <td>NaN</td>\n      <td>NaN</td>\n      <td>Walnut, yellow pine</td>\n      <td>1584</td>\n      <td>NaN</td>\n      <td>Side Chair</td>\n    </tr>\n    <tr>\n      <th>...</th>\n      <td>...</td>\n      <td>...</td>\n      <td>...</td>\n      <td>...</td>\n      <td>...</td>\n      <td>...</td>\n      <td>...</td>\n      <td>...</td>\n      <td>...</td>\n      <td>...</td>\n      <td>...</td>\n      <td>...</td>\n      <td>...</td>\n      <td>...</td>\n      <td>...</td>\n      <td>...</td>\n      <td>...</td>\n    </tr>\n    <tr>\n      <th>422</th>\n      <td>11.60.147</td>\n      <td>NaN</td>\n      <td>NaN</td>\n      <td>Bequest of Maria P. James, 1910</td>\n      <td>American</td>\n      <td>1810–20</td>\n      <td>NaN</td>\n      <td>NaN</td>\n      <td>29 x 45 x 36 3/4 in. (73.7 x 114.3 x 93.3 cm)</td>\n      <td>Made in New York, New York, United States</td>\n      <td>Metal, Copper alloy, Brass, Furniture, Tables,...</td>\n      <td>NaN</td>\n      <td>NaN</td>\n      <td>Mahogany, gilt brass, tulip poplar, white pine</td>\n      <td>3454</td>\n      <td>NaN</td>\n      <td>Drop-leaf Pembroke Table</td>\n    </tr>\n    <tr>\n      <th>423</th>\n      <td>1978.414</td>\n      <td>NaN</td>\n      <td>NaN</td>\n      <td>Purchase, Lenox, Incorporated Gift and Sansbur...</td>\n      <td>American</td>\n      <td>1792</td>\n      <td>NaN</td>\n      <td>NaN</td>\n      <td>H. 9 in. (22.9 cm)</td>\n      <td>Possibly made in Maryland, United States; Poss...</td>\n      <td>Glass, Blown glass, Engraving, Vessels, Bottle...</td>\n      <td>NaN</td>\n      <td>NaN</td>\n      <td>Blown and engraved glass</td>\n      <td>3711</td>\n      <td>NaN</td>\n      <td>Pocket bottle</td>\n    </tr>\n    <tr>\n      <th>424</th>\n      <td>35.105.2</td>\n      <td>NaN</td>\n      <td>NaN</td>\n      <td>Rogers Fund, 1935</td>\n      <td>NaN</td>\n      <td>1700–1800</td>\n      <td>NaN</td>\n      <td>NaN</td>\n      <td>H. 2 1/2 in. (6.4 cm)</td>\n      <td>NaN</td>\n      <td>Metal, Iron and iron alloy, Iron, Arms, Firear...</td>\n      <td>NaN</td>\n      <td>NaN</td>\n      <td>Iron</td>\n      <td>4145</td>\n      <td>NaN</td>\n      <td>Gun Hook</td>\n    </tr>\n    <tr>\n      <th>425</th>\n      <td>83.2.18</td>\n      <td>NaN</td>\n      <td>NaN</td>\n      <td>Gift of William H. Huntington, 1883</td>\n      <td>NaN</td>\n      <td>1864</td>\n      <td>NaN</td>\n      <td>NaN</td>\n      <td>Diam. 1 1/8 in. (2.9 cm)</td>\n      <td>NaN</td>\n      <td>Bolen, John A., Metal, Medals</td>\n      <td>John A. Bolen (1826–1906)</td>\n      <td>NaN</td>\n      <td>Metal</td>\n      <td>4539</td>\n      <td>NaN</td>\n      <td>Medal</td>\n    </tr>\n    <tr>\n      <th>426</th>\n      <td>33.120.254</td>\n      <td>NaN</td>\n      <td>NaN</td>\n      <td>Bequest of Alphonso T. Clearwater, 1933</td>\n      <td>American</td>\n      <td>1800–1830</td>\n      <td>NaN</td>\n      <td>NaN</td>\n      <td>Overall: L. 14 7/16 in. (36.7 cm); 5 oz. 13 dw...</td>\n      <td>Made in New York, New York, United States</td>\n      <td>Roe  Stollenwerck , Metal, Silver, Ladles, Nor...</td>\n      <td>Roe and Stollenwerck (active ca. 1800)</td>\n      <td>NaN</td>\n      <td>Silver</td>\n      <td>4671</td>\n      <td>NaN</td>\n      <td>Ladle</td>\n    </tr>\n  </tbody>\n</table>\n<p>427 rows × 17 columns</p>\n</div>"
     },
     "execution_count": 3,
     "metadata": {},
     "output_type": "execute_result"
    }
   ],
   "source": [
    "met_df"
   ],
   "metadata": {
    "collapsed": false,
    "ExecuteTime": {
     "end_time": "2024-06-17T13:41:30.387387Z",
     "start_time": "2024-06-17T13:41:30.377758Z"
    }
   },
   "id": "70da7745c13906b4",
   "execution_count": 3
  },
  {
   "cell_type": "markdown",
   "source": [
    "## Step 2: Rename overlapping fields"
   ],
   "metadata": {
    "collapsed": false
   },
   "id": "814709092f80ac5b"
  },
  {
   "cell_type": "code",
   "outputs": [],
   "source": [
    "# met_df.rename(columns={\n",
    "#     'description': 'description',\n",
    "#     'artist': 'artist',\n",
    "#     'title': 'title',\n",
    "#     'date': 'date',\n",
    "#     'medium': 'technique',\n",
    "#     'type': 'type'\n",
    "# }, inplace=True)\n",
    "\n",
    "semart_df.rename(columns={\n",
    "    'IMAGE_FILE': 'image_file',\n",
    "    'DESCRIPTION': 'description',\n",
    "    'AUTHOR': 'artist',\n",
    "    'TITLE': 'title',\n",
    "    'TECHNIQUE': 'technique',\n",
    "    'DATE': 'date',\n",
    "    'TYPE': 'type',\n",
    "    'SCHOOL': 'school',\n",
    "    'SPLIT': 'split',\n",
    "    'TIMEFRAME': 'timeframe'\n",
    "}, inplace=True)\n",
    "\n",
    "rijksmuseum_df.rename(columns={\n",
    "    'filename': 'image_file',\n",
    "    'description': 'description',\n",
    "    'creator': 'artist',\n",
    "    'title': 'title',\n",
    "    'date': 'date',\n",
    "    'type': 'type'\n",
    "}, inplace=True)\n",
    "\n",
    "ukiyoe_df.rename(columns={\n",
    "    'image_file': 'image_file',\n",
    "    'description': 'description',\n",
    "    'artistString': 'artist',\n",
    "    'title': 'title',\n",
    "    'date': 'date',\n",
    "    'type': 'type'\n",
    "}, inplace=True)\n",
    "# Drop the 'Unnamed: 42' column\n",
    "ukiyoe_df.drop('Unnamed: 42', axis=1, inplace=True)\n",
    "\n",
    "wikiart_df.rename(columns={\n",
    "    'description': 'description',\n",
    "    'filename': 'image_file',\n",
    "    'artist': 'artist',\n",
    "    'title': 'title',\n",
    "    'date': 'date',\n",
    "    'genre': 'type'\n",
    "}, inplace=True)\n",
    "\n",
    "gac_df.rename(columns={\n",
    "    'artwork_path': 'image_file',\n",
    "    'main_text': 'description',\n",
    "    'creator': 'artist',\n",
    "    'title': 'title',\n",
    "    'date': 'date',\n",
    "    'type': 'type'\n",
    "}, inplace=True)"
   ],
   "metadata": {
    "collapsed": false,
    "ExecuteTime": {
     "end_time": "2024-06-07T13:52:20.172574Z",
     "start_time": "2024-06-07T13:52:20.115208Z"
    }
   },
   "id": "509d32adf156e611",
   "execution_count": 3
  },
  {
   "cell_type": "markdown",
   "source": [
    "## Step 3: Convert each DataFrame to XML "
   ],
   "metadata": {
    "collapsed": false
   },
   "id": "1f1b1925f423f625"
  },
  {
   "cell_type": "code",
   "outputs": [],
   "source": [
    "import xml.etree.ElementTree as ET \n",
    "\n",
    "def dataframe_to_xml(df, root_name, row_name):\n",
    "    \"\"\"Convert a DataFrame to an XML string.\"\"\"\n",
    "    root = ET.Element(root_name)\n",
    "    for i, row in df.iterrows():\n",
    "        row_elem = ET.SubElement(root, row_name)\n",
    "        for field, value in row.items():\n",
    "            field_elem = ET.SubElement(row_elem, field)\n",
    "            field_elem.text = str(value)\n",
    "    return ET.tostring(root, encoding='unicode')\n",
    "    \n",
    "# Step 3: Convert each DataFrame to XML\n",
    "# met_xml = dataframe_to_xml(met_df, 'Met', 'artwork')\n",
    "semart_xml = dataframe_to_xml(semart_df, 'SemArt', 'artwork')\n",
    "rijksmuseum_xml = dataframe_to_xml(rijksmuseum_df, 'Rijksmuseum', 'artwork')\n",
    "ukiyoe_xml = dataframe_to_xml(ukiyoe_df, 'Ukiyo-e', 'artwork')\n",
    "wikiart_xml = dataframe_to_xml(wikiart_df, 'WikiArt', 'artwork')\n",
    "gac_df_xml = dataframe_to_xml(gac_df, 'GAC', 'artwork')"
   ],
   "metadata": {
    "collapsed": false,
    "ExecuteTime": {
     "end_time": "2024-06-07T13:52:35.683300Z",
     "start_time": "2024-06-07T13:52:20.173241Z"
    }
   },
   "id": "61e883356f292b8c",
   "execution_count": 4
  },
  {
   "cell_type": "markdown",
   "source": [
    "## Step 4: Step 4: Merge the XMLs into a hierarchical structure"
   ],
   "metadata": {
    "collapsed": false
   },
   "id": "da47bc466d94919f"
  },
  {
   "cell_type": "code",
   "outputs": [],
   "source": [
    "datasets_root = ET.Element('Datasets')\n",
    "\n",
    "# met_tree = ET.ElementTree(ET.fromstring(met_xml))\n",
    "semart_tree = ET.ElementTree(ET.fromstring(semart_xml))\n",
    "rijksmuseum_tree = ET.ElementTree(ET.fromstring(rijksmuseum_xml))\n",
    "ukiyoe_tree = ET.ElementTree(ET.fromstring(ukiyoe_xml))\n",
    "wikiart_tree = ET.ElementTree(ET.fromstring(wikiart_xml))\n",
    "gac_tree = ET.ElementTree(ET.fromstring(gac_df_xml))\n",
    "\n",
    "# datasets_root.append(met_tree.getroot())\n",
    "datasets_root.append(semart_tree.getroot())\n",
    "datasets_root.append(rijksmuseum_tree.getroot())\n",
    "datasets_root.append(ukiyoe_tree.getroot())\n",
    "datasets_root.append(wikiart_tree.getroot())\n",
    "datasets_root.append(gac_tree.getroot())"
   ],
   "metadata": {
    "collapsed": false,
    "ExecuteTime": {
     "end_time": "2024-06-07T13:53:17.234297Z",
     "start_time": "2024-06-07T13:53:11.432823Z"
    }
   },
   "id": "f6ebe7d7e0d3f04e",
   "execution_count": 7
  },
  {
   "cell_type": "markdown",
   "source": [
    "## Step 5: Save the combined XML to a file"
   ],
   "metadata": {
    "collapsed": false
   },
   "id": "874716567e613be4"
  },
  {
   "cell_type": "code",
   "outputs": [
    {
     "name": "stdout",
     "output_type": "stream",
     "text": [
      "Merged XML saved as 'merged_datasets.xml'.\n"
     ]
    }
   ],
   "source": [
    "combined_tree = ET.ElementTree(datasets_root)\n",
    "combined_tree.write('merged_datasets.xml', encoding='unicode')\n",
    "\n",
    "print(\"Merged XML saved as 'merged_datasets.xml'.\")"
   ],
   "metadata": {
    "collapsed": false,
    "ExecuteTime": {
     "end_time": "2024-06-07T13:55:02.938626Z",
     "start_time": "2024-06-07T13:54:56.071664Z"
    }
   },
   "id": "c2e885ad1e2f184b",
   "execution_count": 9
  }
 ],
 "metadata": {
  "kernelspec": {
   "display_name": "Python 3",
   "language": "python",
   "name": "python3"
  },
  "language_info": {
   "codemirror_mode": {
    "name": "ipython",
    "version": 2
   },
   "file_extension": ".py",
   "mimetype": "text/x-python",
   "name": "python",
   "nbconvert_exporter": "python",
   "pygments_lexer": "ipython2",
   "version": "2.7.6"
  }
 },
 "nbformat": 4,
 "nbformat_minor": 5
}
