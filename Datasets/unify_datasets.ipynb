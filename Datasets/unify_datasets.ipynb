{
 "cells": [
  {
   "cell_type": "code",
   "outputs": [],
   "source": [
    "import pandas as pd"
   ],
   "metadata": {
    "collapsed": false,
    "is_executing": true
   },
   "id": "d7cc9373fb38d76c",
   "execution_count": null
  },
  {
   "cell_type": "markdown",
   "source": [
    "## Step 1: Read CSV files into DataFrames"
   ],
   "metadata": {
    "collapsed": false
   },
   "id": "7d7e13e2e842c0a1"
  },
  {
   "cell_type": "code",
   "outputs": [],
   "source": [
    "met_df = pd.read_csv('./Met/output/met_metadata_final.csv')\n",
    "semart_df = pd.read_csv('./SemArt/output/semart_metadata_final.csv')\n",
    "rijksmuseum_df = pd.read_csv('./Rijksmuseum/output/rijksmuseum_metadata_final.csv')\n",
    "ukiyoe_df = pd.read_csv('./Ukiyo-e/output/ukiyoe_metadata_final.csv', index_col=0)\n",
    "wikiart_df = pd.read_csv('./Wikiart/output/wikiart_metadata_final.csv')\n",
    "gac_df = pd.read_csv('./GAC/output/gac_metadata_final.csv')"
   ],
   "metadata": {
    "collapsed": false,
    "is_executing": true
   },
   "id": "8c4619cc84a02b31",
   "execution_count": null
  },
  {
   "cell_type": "code",
   "outputs": [],
   "source": [
    "met_df"
   ],
   "metadata": {
    "collapsed": false,
    "is_executing": true
   },
   "id": "70da7745c13906b4",
   "execution_count": null
  },
  {
   "cell_type": "markdown",
   "source": [
    "## Step 2: Rename overlapping fields"
   ],
   "metadata": {
    "collapsed": false
   },
   "id": "814709092f80ac5b"
  },
  {
   "cell_type": "code",
   "outputs": [],
   "source": [
    "met_df.rename(columns={\n",
    "    'description': 'description',\n",
    "    'artist': 'artist',\n",
    "    'title': 'title',\n",
    "    'date': 'date',\n",
    "    'medium': 'technique',\n",
    "    'type': 'type'\n",
    "}, inplace=True)\n",
    "\n",
    "semart_df.rename(columns={\n",
    "    'IMAGE_FILE': 'image_file',\n",
    "    'DESCRIPTION': 'description',\n",
    "    'AUTHOR': 'artist',\n",
    "    'TITLE': 'title',\n",
    "    'TECHNIQUE': 'technique',\n",
    "    'DATE': 'date',\n",
    "    'TYPE': 'type',\n",
    "    'SCHOOL': 'school',\n",
    "    'SPLIT': 'split',\n",
    "    'TIMEFRAME': 'timeframe'\n",
    "}, inplace=True)\n",
    "\n",
    "rijksmuseum_df.rename(columns={\n",
    "    'filename': 'image_file',\n",
    "    'description': 'description',\n",
    "    'creator': 'artist',\n",
    "    'title': 'title',\n",
    "    'date': 'date',\n",
    "    'type': 'type'\n",
    "}, inplace=True)\n",
    "\n",
    "ukiyoe_df.rename(columns={\n",
    "    'image_file': 'image_file',\n",
    "    'description': 'description',\n",
    "    'artistString': 'artist',\n",
    "    'title': 'title',\n",
    "    'date': 'date',\n",
    "    'type': 'type'\n",
    "}, inplace=True)\n",
    "# Drop the 'Unnamed: 42' column\n",
    "ukiyoe_df.drop('Unnamed: 42', axis=1, inplace=True)\n",
    "\n",
    "wikiart_df.rename(columns={\n",
    "    'description': 'description',\n",
    "    'filename': 'image_file',\n",
    "    'artist': 'artist',\n",
    "    'title': 'title',\n",
    "    'date': 'date',\n",
    "    'genre': 'type'\n",
    "}, inplace=True)\n",
    "\n",
    "gac_df.rename(columns={\n",
    "    'artwork_path': 'image_file',\n",
    "    'main_text': 'description',\n",
    "    'creator': 'artist',\n",
    "    'title': 'title',\n",
    "    'date': 'date',\n",
    "    'type': 'type'\n",
    "}, inplace=True)"
   ],
   "metadata": {
    "collapsed": false,
    "is_executing": true
   },
   "id": "509d32adf156e611",
   "execution_count": null
  },
  {
   "cell_type": "markdown",
   "source": [
    "## Step 3: Convert each DataFrame to XML "
   ],
   "metadata": {
    "collapsed": false
   },
   "id": "1f1b1925f423f625"
  },
  {
   "cell_type": "code",
   "outputs": [],
   "source": [
    "import xml.etree.ElementTree as ET \n",
    "\n",
    "def dataframe_to_xml(df, root_name, row_name):\n",
    "    \"\"\"Convert a DataFrame to an XML string.\"\"\"\n",
    "    root = ET.Element(root_name)\n",
    "    for i, row in df.iterrows():\n",
    "        row_elem = ET.SubElement(root, row_name)\n",
    "        for field, value in row.items():\n",
    "            field_elem = ET.SubElement(row_elem, field)\n",
    "            field_elem.text = str(value)\n",
    "    return ET.tostring(root, encoding='unicode')\n",
    "    \n",
    "# Step 3: Convert each DataFrame to XML\n",
    "met_xml = dataframe_to_xml(met_df, 'Met', 'artwork')\n",
    "semart_xml = dataframe_to_xml(semart_df, 'SemArt', 'artwork')\n",
    "rijksmuseum_xml = dataframe_to_xml(rijksmuseum_df, 'Rijksmuseum', 'artwork')\n",
    "ukiyoe_xml = dataframe_to_xml(ukiyoe_df, 'Ukiyo-e', 'artwork')\n",
    "wikiart_xml = dataframe_to_xml(wikiart_df, 'WikiArt', 'artwork')\n",
    "gac_df_xml = dataframe_to_xml(gac_df, 'GAC', 'artwork')"
   ],
   "metadata": {
    "collapsed": false,
    "is_executing": true
   },
   "id": "61e883356f292b8c",
   "execution_count": null
  },
  {
   "cell_type": "markdown",
   "source": [
    "## Step 4: Step 4: Merge the XMLs into a hierarchical structure"
   ],
   "metadata": {
    "collapsed": false
   },
   "id": "da47bc466d94919f"
  },
  {
   "cell_type": "code",
   "outputs": [],
   "source": [
    "datasets_root = ET.Element('Datasets')\n",
    "\n",
    "met_tree = ET.ElementTree(ET.fromstring(met_xml))\n",
    "semart_tree = ET.ElementTree(ET.fromstring(semart_xml))\n",
    "rijksmuseum_tree = ET.ElementTree(ET.fromstring(rijksmuseum_xml))\n",
    "ukiyoe_tree = ET.ElementTree(ET.fromstring(ukiyoe_xml))\n",
    "wikiart_tree = ET.ElementTree(ET.fromstring(wikiart_xml))\n",
    "gac_tree = ET.ElementTree(ET.fromstring(gac_df_xml))\n",
    "\n",
    "# datasets_root.append(met_tree.getroot())\n",
    "datasets_root.append(semart_tree.getroot())\n",
    "datasets_root.append(rijksmuseum_tree.getroot())\n",
    "datasets_root.append(ukiyoe_tree.getroot())\n",
    "datasets_root.append(wikiart_tree.getroot())\n",
    "datasets_root.append(gac_tree.getroot())"
   ],
   "metadata": {
    "collapsed": false,
    "is_executing": true
   },
   "id": "f6ebe7d7e0d3f04e",
   "execution_count": null
  },
  {
   "cell_type": "markdown",
   "source": [
    "## Step 5: Save the combined XML to a file"
   ],
   "metadata": {
    "collapsed": false
   },
   "id": "874716567e613be4"
  },
  {
   "cell_type": "code",
   "outputs": [],
   "source": [
    "combined_tree = ET.ElementTree(datasets_root)\n",
    "combined_tree.write('merged_datasets.xml', encoding='unicode')\n",
    "\n",
    "print(\"Merged XML saved as 'merged_datasets.xml'.\")"
   ],
   "metadata": {
    "collapsed": false,
    "is_executing": true
   },
   "id": "c2e885ad1e2f184b",
   "execution_count": null
  }
 ],
 "metadata": {
  "kernelspec": {
   "display_name": "Python 3",
   "language": "python",
   "name": "python3"
  },
  "language_info": {
   "codemirror_mode": {
    "name": "ipython",
    "version": 2
   },
   "file_extension": ".py",
   "mimetype": "text/x-python",
   "name": "python",
   "nbconvert_exporter": "python",
   "pygments_lexer": "ipython2",
   "version": "2.7.6"
  }
 },
 "nbformat": 4,
 "nbformat_minor": 5
}
