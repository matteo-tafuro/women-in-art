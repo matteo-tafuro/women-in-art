{
 "cells": [
  {
   "cell_type": "code",
   "outputs": [],
   "source": [
    "import pandas as pd"
   ],
   "metadata": {
    "collapsed": false,
    "ExecuteTime": {
     "end_time": "2024-07-17T08:20:48.503051Z",
     "start_time": "2024-07-17T08:20:47.514216Z"
    }
   },
   "id": "d7cc9373fb38d76c",
   "execution_count": 1
  },
  {
   "cell_type": "markdown",
   "source": [
    "## Step 1: Read CSV files into DataFrames"
   ],
   "metadata": {
    "collapsed": false
   },
   "id": "7d7e13e2e842c0a1"
  },
  {
   "cell_type": "code",
   "outputs": [
    {
     "name": "stderr",
     "output_type": "stream",
     "text": [
      "/var/folders/pg/3l0tmhjs169g7ywv7zxbdghr0000gn/T/ipykernel_49181/4164205528.py:1: DtypeWarning: Columns (0,3,4,5,7,9,10,11,12,13,14,15,16,17,18,19,20,21,22,23,24,25,26,27,28,29,30,31,32,33,34,35,36,37,38,39,40,41,42,43,44,45,46,47,48,49,50,51,52,53,54,55,56,57,58,59,60,61,62,63,64,65,66,67,68,69,70,71,72,73,74,75,76,77,78,79,80,81,82,83,84,85,86,87,88,89,90) have mixed types. Specify dtype option on import or set low_memory=False.\n",
      "  met_df = pd.read_csv('./Met/output/met_metadata_final.csv')\n",
      "/var/folders/pg/3l0tmhjs169g7ywv7zxbdghr0000gn/T/ipykernel_49181/4164205528.py:4: DtypeWarning: Columns (42) have mixed types. Specify dtype option on import or set low_memory=False.\n",
      "  ukiyoe_df = pd.read_csv('./Ukiyo-e/output/ukiyoe_metadata_final.csv', index_col=0)\n"
     ]
    }
   ],
   "source": [
    "met_df = pd.read_csv('./Met/output/met_metadata_final.csv')\n",
    "semart_df = pd.read_csv('./SemArt/output/semart_metadata_final.csv')\n",
    "rijksmuseum_df = pd.read_csv('./Rijksmuseum/output/rijksmuseum_metadata_final.csv')\n",
    "ukiyoe_df = pd.read_csv('./Ukiyo-e/output/ukiyoe_metadata_final.csv', index_col=0)\n",
    "wikiart_df = pd.read_csv('./Wikiart/output/wikiart_metadata_final.csv')\n",
    "gac_df = pd.read_csv('./GAC/output/gac_metadata_final.csv')"
   ],
   "metadata": {
    "collapsed": false,
    "ExecuteTime": {
     "end_time": "2024-07-17T08:20:52.777003Z",
     "start_time": "2024-07-17T08:20:48.504020Z"
    }
   },
   "id": "8c4619cc84a02b31",
   "execution_count": 2
  },
  {
   "cell_type": "code",
   "outputs": [
    {
     "data": {
      "text/plain": "        met_id                                        description  \\\n0       559852                                                NaN   \n1       559852                                                NaN   \n2       559853                                                NaN   \n3       559853                                                NaN   \n4       559853                                                NaN   \n...        ...                                                ...   \n397788  194425  Faience, or tin-glazed and enameled earthenwar...   \n397789  194425  Faience, or tin-glazed and enameled earthenwar...   \n397790  194425  Faience, or tin-glazed and enameled earthenwar...   \n397791  194425  Faience, or tin-glazed and enameled earthenwar...   \n397792  194425  Faience, or tin-glazed and enameled earthenwar...   \n\n                                                    title       period  \\\n0       Scarab Inscribed for the Female Horus Wosretka...  New Kingdom   \n1       Scarab Inscribed for the Female Horus Wosretka...  New Kingdom   \n2       Scarab Inscribed for the Female Horus Wosretka...  New Kingdom   \n3       Scarab Inscribed for the Female Horus Wosretka...  New Kingdom   \n4       Scarab Inscribed for the Female Horus Wosretka...  New Kingdom   \n...                                                   ...          ...   \n397788                                     Panel of tiles          NaN   \n397789                                     Panel of tiles          NaN   \n397790                                     Panel of tiles          NaN   \n397791                                     Panel of tiles          NaN   \n397792                                     Panel of tiles          NaN   \n\n                  dynasty                                       reign  \\\n0       Dynasty 18, early  Joint reign of Hatshepsut and Thutmose III   \n1       Dynasty 18, early  Joint reign of Hatshepsut and Thutmose III   \n2       Dynasty 18, early  Joint reign of Hatshepsut and Thutmose III   \n3       Dynasty 18, early  Joint reign of Hatshepsut and Thutmose III   \n4       Dynasty 18, early  Joint reign of Hatshepsut and Thutmose III   \n...                   ...                                         ...   \n397788                NaN                                         NaN   \n397789                NaN                                         NaN   \n397790                NaN                                         NaN   \n397791                NaN                                         NaN   \n397792                NaN                                         NaN   \n\n                      date                                          geography  \\\n0       ca. 1479–1458 B.C.  From Egypt, Upper Egypt, Thebes, Deir el-Bahri...   \n1       ca. 1479–1458 B.C.  From Egypt, Upper Egypt, Thebes, Deir el-Bahri...   \n2       ca. 1479–1458 B.C.  From Egypt, Upper Egypt, Thebes, Deir el-Bahri...   \n3       ca. 1479–1458 B.C.  From Egypt, Upper Egypt, Thebes, Deir el-Bahri...   \n4       ca. 1479–1458 B.C.  From Egypt, Upper Egypt, Thebes, Deir el-Bahri...   \n...                    ...                                                ...   \n397788         ca. 1549–51                                                NaN   \n397789         ca. 1549–51                                                NaN   \n397790         ca. 1549–51                                                NaN   \n397791         ca. 1549–51                                                NaN   \n397792         ca. 1549–51                                                NaN   \n\n                                  medium  \\\n0                      Steatite (glazed)   \n1                      Steatite (glazed)   \n2                      Steatite (glazed)   \n3                      Steatite (glazed)   \n4                      Steatite (glazed)   \n...                                  ...   \n397788  Faience (tin-glazed earthenware)   \n397789  Faience (tin-glazed earthenware)   \n397790  Faience (tin-glazed earthenware)   \n397791  Faience (tin-glazed earthenware)   \n397792  Faience (tin-glazed earthenware)   \n\n                                  dimensions  ... steel-chiseler stock_maker  \\\n0        L. 1.6 ×  W. 1.2 cm (5/8 × 1/2 in.)  ...            NaN         NaN   \n1        L. 1.6 ×  W. 1.2 cm (5/8 × 1/2 in.)  ...            NaN         NaN   \n2        L. 1.4 × W. 1.2 cm (9/16 × 1/2 in.)  ...            NaN         NaN   \n3        L. 1.4 × W. 1.2 cm (9/16 × 1/2 in.)  ...            NaN         NaN   \n4        L. 1.4 × W. 1.2 cm (9/16 × 1/2 in.)  ...            NaN         NaN   \n...                                      ...  ...            ...         ...   \n397788  17 1/4 × 12 3/4 in. (43.8 × 32.4 cm)  ...            NaN         NaN   \n397789  17 1/4 × 12 3/4 in. (43.8 × 32.4 cm)  ...            NaN         NaN   \n397790  17 1/4 × 12 3/4 in. (43.8 × 32.4 cm)  ...            NaN         NaN   \n397791  17 1/4 × 12 3/4 in. (43.8 × 32.4 cm)  ...            NaN         NaN   \n397792  17 1/4 × 12 3/4 in. (43.8 × 32.4 cm)  ...            NaN         NaN   \n\n       hilt_maker sword_cutler restorer/conservator gun_assembler  \\\n0             NaN          NaN                  NaN           NaN   \n1             NaN          NaN                  NaN           NaN   \n2             NaN          NaN                  NaN           NaN   \n3             NaN          NaN                  NaN           NaN   \n4             NaN          NaN                  NaN           NaN   \n...           ...          ...                  ...           ...   \n397788        NaN          NaN                  NaN           NaN   \n397789        NaN          NaN                  NaN           NaN   \n397790        NaN          NaN                  NaN           NaN   \n397791        NaN          NaN                  NaN           NaN   \n397792        NaN          NaN                  NaN           NaN   \n\n       stock_polisher lacquer_worker department_store design_house  \n0                 NaN            NaN              NaN          NaN  \n1                 NaN            NaN              NaN          NaN  \n2                 NaN            NaN              NaN          NaN  \n3                 NaN            NaN              NaN          NaN  \n4                 NaN            NaN              NaN          NaN  \n...               ...            ...              ...          ...  \n397788            NaN            NaN              NaN          NaN  \n397789            NaN            NaN              NaN          NaN  \n397790            NaN            NaN              NaN          NaN  \n397791            NaN            NaN              NaN          NaN  \n397792            NaN            NaN              NaN          NaN  \n\n[397793 rows x 91 columns]",
      "text/html": "<div>\n<style scoped>\n    .dataframe tbody tr th:only-of-type {\n        vertical-align: middle;\n    }\n\n    .dataframe tbody tr th {\n        vertical-align: top;\n    }\n\n    .dataframe thead th {\n        text-align: right;\n    }\n</style>\n<table border=\"1\" class=\"dataframe\">\n  <thead>\n    <tr style=\"text-align: right;\">\n      <th></th>\n      <th>met_id</th>\n      <th>description</th>\n      <th>title</th>\n      <th>period</th>\n      <th>dynasty</th>\n      <th>reign</th>\n      <th>date</th>\n      <th>geography</th>\n      <th>medium</th>\n      <th>dimensions</th>\n      <th>...</th>\n      <th>steel-chiseler</th>\n      <th>stock_maker</th>\n      <th>hilt_maker</th>\n      <th>sword_cutler</th>\n      <th>restorer/conservator</th>\n      <th>gun_assembler</th>\n      <th>stock_polisher</th>\n      <th>lacquer_worker</th>\n      <th>department_store</th>\n      <th>design_house</th>\n    </tr>\n  </thead>\n  <tbody>\n    <tr>\n      <th>0</th>\n      <td>559852</td>\n      <td>NaN</td>\n      <td>Scarab Inscribed for the Female Horus Wosretka...</td>\n      <td>New Kingdom</td>\n      <td>Dynasty 18, early</td>\n      <td>Joint reign of Hatshepsut and Thutmose III</td>\n      <td>ca. 1479–1458 B.C.</td>\n      <td>From Egypt, Upper Egypt, Thebes, Deir el-Bahri...</td>\n      <td>Steatite (glazed)</td>\n      <td>L. 1.6 ×  W. 1.2 cm (5/8 × 1/2 in.)</td>\n      <td>...</td>\n      <td>NaN</td>\n      <td>NaN</td>\n      <td>NaN</td>\n      <td>NaN</td>\n      <td>NaN</td>\n      <td>NaN</td>\n      <td>NaN</td>\n      <td>NaN</td>\n      <td>NaN</td>\n      <td>NaN</td>\n    </tr>\n    <tr>\n      <th>1</th>\n      <td>559852</td>\n      <td>NaN</td>\n      <td>Scarab Inscribed for the Female Horus Wosretka...</td>\n      <td>New Kingdom</td>\n      <td>Dynasty 18, early</td>\n      <td>Joint reign of Hatshepsut and Thutmose III</td>\n      <td>ca. 1479–1458 B.C.</td>\n      <td>From Egypt, Upper Egypt, Thebes, Deir el-Bahri...</td>\n      <td>Steatite (glazed)</td>\n      <td>L. 1.6 ×  W. 1.2 cm (5/8 × 1/2 in.)</td>\n      <td>...</td>\n      <td>NaN</td>\n      <td>NaN</td>\n      <td>NaN</td>\n      <td>NaN</td>\n      <td>NaN</td>\n      <td>NaN</td>\n      <td>NaN</td>\n      <td>NaN</td>\n      <td>NaN</td>\n      <td>NaN</td>\n    </tr>\n    <tr>\n      <th>2</th>\n      <td>559853</td>\n      <td>NaN</td>\n      <td>Scarab Inscribed for the Female Horus Wosretka...</td>\n      <td>New Kingdom</td>\n      <td>Dynasty 18, early</td>\n      <td>Joint reign of Hatshepsut and Thutmose III</td>\n      <td>ca. 1479–1458 B.C.</td>\n      <td>From Egypt, Upper Egypt, Thebes, Deir el-Bahri...</td>\n      <td>Steatite (glazed)</td>\n      <td>L. 1.4 × W. 1.2 cm (9/16 × 1/2 in.)</td>\n      <td>...</td>\n      <td>NaN</td>\n      <td>NaN</td>\n      <td>NaN</td>\n      <td>NaN</td>\n      <td>NaN</td>\n      <td>NaN</td>\n      <td>NaN</td>\n      <td>NaN</td>\n      <td>NaN</td>\n      <td>NaN</td>\n    </tr>\n    <tr>\n      <th>3</th>\n      <td>559853</td>\n      <td>NaN</td>\n      <td>Scarab Inscribed for the Female Horus Wosretka...</td>\n      <td>New Kingdom</td>\n      <td>Dynasty 18, early</td>\n      <td>Joint reign of Hatshepsut and Thutmose III</td>\n      <td>ca. 1479–1458 B.C.</td>\n      <td>From Egypt, Upper Egypt, Thebes, Deir el-Bahri...</td>\n      <td>Steatite (glazed)</td>\n      <td>L. 1.4 × W. 1.2 cm (9/16 × 1/2 in.)</td>\n      <td>...</td>\n      <td>NaN</td>\n      <td>NaN</td>\n      <td>NaN</td>\n      <td>NaN</td>\n      <td>NaN</td>\n      <td>NaN</td>\n      <td>NaN</td>\n      <td>NaN</td>\n      <td>NaN</td>\n      <td>NaN</td>\n    </tr>\n    <tr>\n      <th>4</th>\n      <td>559853</td>\n      <td>NaN</td>\n      <td>Scarab Inscribed for the Female Horus Wosretka...</td>\n      <td>New Kingdom</td>\n      <td>Dynasty 18, early</td>\n      <td>Joint reign of Hatshepsut and Thutmose III</td>\n      <td>ca. 1479–1458 B.C.</td>\n      <td>From Egypt, Upper Egypt, Thebes, Deir el-Bahri...</td>\n      <td>Steatite (glazed)</td>\n      <td>L. 1.4 × W. 1.2 cm (9/16 × 1/2 in.)</td>\n      <td>...</td>\n      <td>NaN</td>\n      <td>NaN</td>\n      <td>NaN</td>\n      <td>NaN</td>\n      <td>NaN</td>\n      <td>NaN</td>\n      <td>NaN</td>\n      <td>NaN</td>\n      <td>NaN</td>\n      <td>NaN</td>\n    </tr>\n    <tr>\n      <th>...</th>\n      <td>...</td>\n      <td>...</td>\n      <td>...</td>\n      <td>...</td>\n      <td>...</td>\n      <td>...</td>\n      <td>...</td>\n      <td>...</td>\n      <td>...</td>\n      <td>...</td>\n      <td>...</td>\n      <td>...</td>\n      <td>...</td>\n      <td>...</td>\n      <td>...</td>\n      <td>...</td>\n      <td>...</td>\n      <td>...</td>\n      <td>...</td>\n      <td>...</td>\n      <td>...</td>\n    </tr>\n    <tr>\n      <th>397788</th>\n      <td>194425</td>\n      <td>Faience, or tin-glazed and enameled earthenwar...</td>\n      <td>Panel of tiles</td>\n      <td>NaN</td>\n      <td>NaN</td>\n      <td>NaN</td>\n      <td>ca. 1549–51</td>\n      <td>NaN</td>\n      <td>Faience (tin-glazed earthenware)</td>\n      <td>17 1/4 × 12 3/4 in. (43.8 × 32.4 cm)</td>\n      <td>...</td>\n      <td>NaN</td>\n      <td>NaN</td>\n      <td>NaN</td>\n      <td>NaN</td>\n      <td>NaN</td>\n      <td>NaN</td>\n      <td>NaN</td>\n      <td>NaN</td>\n      <td>NaN</td>\n      <td>NaN</td>\n    </tr>\n    <tr>\n      <th>397789</th>\n      <td>194425</td>\n      <td>Faience, or tin-glazed and enameled earthenwar...</td>\n      <td>Panel of tiles</td>\n      <td>NaN</td>\n      <td>NaN</td>\n      <td>NaN</td>\n      <td>ca. 1549–51</td>\n      <td>NaN</td>\n      <td>Faience (tin-glazed earthenware)</td>\n      <td>17 1/4 × 12 3/4 in. (43.8 × 32.4 cm)</td>\n      <td>...</td>\n      <td>NaN</td>\n      <td>NaN</td>\n      <td>NaN</td>\n      <td>NaN</td>\n      <td>NaN</td>\n      <td>NaN</td>\n      <td>NaN</td>\n      <td>NaN</td>\n      <td>NaN</td>\n      <td>NaN</td>\n    </tr>\n    <tr>\n      <th>397790</th>\n      <td>194425</td>\n      <td>Faience, or tin-glazed and enameled earthenwar...</td>\n      <td>Panel of tiles</td>\n      <td>NaN</td>\n      <td>NaN</td>\n      <td>NaN</td>\n      <td>ca. 1549–51</td>\n      <td>NaN</td>\n      <td>Faience (tin-glazed earthenware)</td>\n      <td>17 1/4 × 12 3/4 in. (43.8 × 32.4 cm)</td>\n      <td>...</td>\n      <td>NaN</td>\n      <td>NaN</td>\n      <td>NaN</td>\n      <td>NaN</td>\n      <td>NaN</td>\n      <td>NaN</td>\n      <td>NaN</td>\n      <td>NaN</td>\n      <td>NaN</td>\n      <td>NaN</td>\n    </tr>\n    <tr>\n      <th>397791</th>\n      <td>194425</td>\n      <td>Faience, or tin-glazed and enameled earthenwar...</td>\n      <td>Panel of tiles</td>\n      <td>NaN</td>\n      <td>NaN</td>\n      <td>NaN</td>\n      <td>ca. 1549–51</td>\n      <td>NaN</td>\n      <td>Faience (tin-glazed earthenware)</td>\n      <td>17 1/4 × 12 3/4 in. (43.8 × 32.4 cm)</td>\n      <td>...</td>\n      <td>NaN</td>\n      <td>NaN</td>\n      <td>NaN</td>\n      <td>NaN</td>\n      <td>NaN</td>\n      <td>NaN</td>\n      <td>NaN</td>\n      <td>NaN</td>\n      <td>NaN</td>\n      <td>NaN</td>\n    </tr>\n    <tr>\n      <th>397792</th>\n      <td>194425</td>\n      <td>Faience, or tin-glazed and enameled earthenwar...</td>\n      <td>Panel of tiles</td>\n      <td>NaN</td>\n      <td>NaN</td>\n      <td>NaN</td>\n      <td>ca. 1549–51</td>\n      <td>NaN</td>\n      <td>Faience (tin-glazed earthenware)</td>\n      <td>17 1/4 × 12 3/4 in. (43.8 × 32.4 cm)</td>\n      <td>...</td>\n      <td>NaN</td>\n      <td>NaN</td>\n      <td>NaN</td>\n      <td>NaN</td>\n      <td>NaN</td>\n      <td>NaN</td>\n      <td>NaN</td>\n      <td>NaN</td>\n      <td>NaN</td>\n      <td>NaN</td>\n    </tr>\n  </tbody>\n</table>\n<p>397793 rows × 91 columns</p>\n</div>"
     },
     "execution_count": 3,
     "metadata": {},
     "output_type": "execute_result"
    }
   ],
   "source": [
    "met_df"
   ],
   "metadata": {
    "collapsed": false,
    "ExecuteTime": {
     "end_time": "2024-07-17T08:20:52.872342Z",
     "start_time": "2024-07-17T08:20:52.777855Z"
    }
   },
   "id": "70da7745c13906b4",
   "execution_count": 3
  },
  {
   "cell_type": "markdown",
   "source": [
    "## Step 2: Rename overlapping fields"
   ],
   "metadata": {
    "collapsed": false
   },
   "id": "814709092f80ac5b"
  },
  {
   "cell_type": "code",
   "outputs": [],
   "source": [
    "met_df.rename(columns={\n",
    "    'description': 'description',\n",
    "    'artist': 'artist',\n",
    "    'title': 'title',\n",
    "    'date': 'date',\n",
    "    'medium': 'technique',\n",
    "    'type': 'type'\n",
    "}, inplace=True)\n",
    "\n",
    "semart_df.rename(columns={\n",
    "    'IMAGE_FILE': 'image_file',\n",
    "    'DESCRIPTION': 'description',\n",
    "    'AUTHOR': 'artist',\n",
    "    'TITLE': 'title',\n",
    "    'TECHNIQUE': 'technique',\n",
    "    'DATE': 'date',\n",
    "    'TYPE': 'type',\n",
    "    'SCHOOL': 'school',\n",
    "    'SPLIT': 'split',\n",
    "    'TIMEFRAME': 'timeframe'\n",
    "}, inplace=True)\n",
    "\n",
    "rijksmuseum_df.rename(columns={\n",
    "    'filename': 'image_file',\n",
    "    'description': 'description',\n",
    "    'creator': 'artist',\n",
    "    'title': 'title',\n",
    "    'date': 'date',\n",
    "    'type': 'type'\n",
    "}, inplace=True)\n",
    "\n",
    "ukiyoe_df.rename(columns={\n",
    "    'image_file': 'image_file',\n",
    "    'description': 'description',\n",
    "    'artistString': 'artist',\n",
    "    'title': 'title',\n",
    "    'date': 'date',\n",
    "    'type': 'type'\n",
    "}, inplace=True)\n",
    "# Drop the 'Unnamed: 42' column\n",
    "ukiyoe_df.drop('Unnamed: 42', axis=1, inplace=True)\n",
    "\n",
    "wikiart_df.rename(columns={\n",
    "    'description': 'description',\n",
    "    'filename': 'image_file',\n",
    "    'artist': 'artist',\n",
    "    'title': 'title',\n",
    "    'date': 'date',\n",
    "    'genre': 'type'\n",
    "}, inplace=True)\n",
    "\n",
    "gac_df.rename(columns={\n",
    "    'artwork_path': 'image_file',\n",
    "    'main_text': 'description',\n",
    "    'creator': 'artist',\n",
    "    'title': 'title',\n",
    "    'date': 'date',\n",
    "    'type': 'type'\n",
    "}, inplace=True)"
   ],
   "metadata": {
    "collapsed": false,
    "ExecuteTime": {
     "end_time": "2024-07-17T08:20:52.931303Z",
     "start_time": "2024-07-17T08:20:52.873173Z"
    }
   },
   "id": "509d32adf156e611",
   "execution_count": 4
  },
  {
   "cell_type": "markdown",
   "source": [
    "## Step 3: Convert each DataFrame to XML "
   ],
   "metadata": {
    "collapsed": false
   },
   "id": "1f1b1925f423f625"
  },
  {
   "cell_type": "code",
   "outputs": [],
   "source": [
    "import xml.etree.ElementTree as ET \n",
    "\n",
    "def dataframe_to_xml(df, root_name, row_name):\n",
    "    \"\"\"Convert a DataFrame to an XML string.\"\"\"\n",
    "    root = ET.Element(root_name)\n",
    "    for i, row in df.iterrows():\n",
    "        row_elem = ET.SubElement(root, row_name)\n",
    "        for field, value in row.items():\n",
    "            field_elem = ET.SubElement(row_elem, field)\n",
    "            field_elem.text = str(value)\n",
    "    return ET.tostring(root, encoding='unicode')\n",
    "    \n",
    "# Step 3: Convert each DataFrame to XML\n",
    "met_xml = dataframe_to_xml(met_df, 'Met', 'artwork')\n",
    "semart_xml = dataframe_to_xml(semart_df, 'SemArt', 'artwork')\n",
    "rijksmuseum_xml = dataframe_to_xml(rijksmuseum_df, 'Rijksmuseum', 'artwork')\n",
    "ukiyoe_xml = dataframe_to_xml(ukiyoe_df, 'Ukiyo-e', 'artwork')\n",
    "wikiart_xml = dataframe_to_xml(wikiart_df, 'WikiArt', 'artwork')\n",
    "gac_df_xml = dataframe_to_xml(gac_df, 'GAC', 'artwork')"
   ],
   "metadata": {
    "collapsed": false,
    "ExecuteTime": {
     "end_time": "2024-07-17T08:22:09.407707Z",
     "start_time": "2024-07-17T08:21:14.063183Z"
    }
   },
   "id": "61e883356f292b8c",
   "execution_count": 6
  },
  {
   "cell_type": "markdown",
   "source": [
    "## Step 4: Step 4: Merge the XMLs into a hierarchical structure"
   ],
   "metadata": {
    "collapsed": false
   },
   "id": "da47bc466d94919f"
  },
  {
   "cell_type": "code",
   "outputs": [],
   "source": [
    "datasets_root = ET.Element('Datasets')\n",
    "\n",
    "# met_tree = ET.ElementTree(ET.fromstring(met_xml))\n",
    "semart_tree = ET.ElementTree(ET.fromstring(semart_xml))\n",
    "rijksmuseum_tree = ET.ElementTree(ET.fromstring(rijksmuseum_xml))\n",
    "ukiyoe_tree = ET.ElementTree(ET.fromstring(ukiyoe_xml))\n",
    "wikiart_tree = ET.ElementTree(ET.fromstring(wikiart_xml))\n",
    "gac_tree = ET.ElementTree(ET.fromstring(gac_df_xml))\n",
    "\n",
    "# datasets_root.append(met_tree.getroot())\n",
    "datasets_root.append(semart_tree.getroot())\n",
    "datasets_root.append(rijksmuseum_tree.getroot())\n",
    "datasets_root.append(ukiyoe_tree.getroot())\n",
    "datasets_root.append(wikiart_tree.getroot())\n",
    "datasets_root.append(gac_tree.getroot())"
   ],
   "metadata": {
    "collapsed": false,
    "ExecuteTime": {
     "end_time": "2024-07-17T08:22:31.589357Z",
     "start_time": "2024-07-17T08:22:27.050247Z"
    }
   },
   "id": "f6ebe7d7e0d3f04e",
   "execution_count": 7
  },
  {
   "cell_type": "markdown",
   "source": [
    "## Step 5: Save the combined XML to a file"
   ],
   "metadata": {
    "collapsed": false
   },
   "id": "874716567e613be4"
  },
  {
   "cell_type": "code",
   "outputs": [],
   "source": [
    "combined_tree = ET.ElementTree(datasets_root)\n",
    "combined_tree.write('merged_datasets.xml', encoding='unicode')\n",
    "\n",
    "print(\"Merged XML saved as 'merged_datasets.xml'.\")"
   ],
   "metadata": {
    "collapsed": false,
    "is_executing": true,
    "ExecuteTime": {
     "start_time": "2024-07-17T08:22:32.555262Z"
    }
   },
   "id": "c2e885ad1e2f184b",
   "execution_count": null
  }
 ],
 "metadata": {
  "kernelspec": {
   "display_name": "Python 3",
   "language": "python",
   "name": "python3"
  },
  "language_info": {
   "codemirror_mode": {
    "name": "ipython",
    "version": 2
   },
   "file_extension": ".py",
   "mimetype": "text/x-python",
   "name": "python",
   "nbconvert_exporter": "python",
   "pygments_lexer": "ipython2",
   "version": "2.7.6"
  }
 },
 "nbformat": 4,
 "nbformat_minor": 5
}
